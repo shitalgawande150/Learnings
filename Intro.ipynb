{
  "cells": [
    {
      "cell_type": "code",
      "execution_count": 2,
      "id": "a3326ad5",
      "metadata": {},
      "outputs": [],
      "source": [
        "\n",
        "import numpy as np"
      ]
    },
    {
      "cell_type": "code",
      "execution_count": 3,
      "id": "23af69a5",
      "metadata": {},
      "outputs": [
        {
          "name": "stdout",
          "output_type": "stream",
          "text": [
            "[1 2 3]\n"
          ]
        }
      ],
      "source": [
        "# How to create a basic array\n",
        "arr = np.array(([1,2,3]))\n",
        "print(arr)#"
      ]
    },
    {
      "cell_type": "code",
      "execution_count": 4,
      "id": "4603a639",
      "metadata": {},
      "outputs": [
        {
          "data": {
            "text/plain": [
              "array([0., 0.])"
            ]
          },
          "execution_count": 4,
          "metadata": {},
          "output_type": "execute_result"
        }
      ],
      "source": [
        "# array filled with o’s\n",
        "np.zeros(2)"
      ]
    },
    {
      "cell_type": "code",
      "execution_count": 5,
      "id": "4474915d",
      "metadata": {},
      "outputs": [
        {
          "data": {
            "text/plain": [
              "array([1., 1.])"
            ]
          },
          "execution_count": 5,
          "metadata": {},
          "output_type": "execute_result"
        }
      ],
      "source": [
        "# array filled with 1’s\n",
        "np.ones(2)"
      ]
    },
    {
      "cell_type": "code",
      "execution_count": 6,
      "id": "7c75a798",
      "metadata": {},
      "outputs": [
        {
          "data": {
            "text/plain": [
              "array([1., 1.])"
            ]
          },
          "execution_count": 6,
          "metadata": {},
          "output_type": "execute_result"
        }
      ],
      "source": [
        "#numpy.empty is a function in the NumPy library of Python that is used to create a new array of a specified size and data type, \n",
        "#without initializing the elements of the array to any particular value. The function creates a new array in memory with the \n",
        "#specified size, but does not initialize the values in the array.\n",
        "#The reason for using numpy.empty over other functions like numpy.zeros or numpy.ones is that it is faster since it doesn't need \n",
        "#to initialize the values. If you know that you will immediately fill the array with data, or if you don't care about the initial \n",
        "#values in the array, then numpy.empty can be a useful function to use.\n",
        "np.empty(2)"
      ]
    },
    {
      "cell_type": "code",
      "execution_count": 7,
      "id": "638b10cc",
      "metadata": {},
      "outputs": [
        {
          "data": {
            "text/plain": [
              "array([0, 1, 2, 3])"
            ]
          },
          "execution_count": 7,
          "metadata": {},
          "output_type": "execute_result"
        }
      ],
      "source": [
        "#create an array with a range of elements:\n",
        "np.arange(4)"
      ]
    },
    {
      "cell_type": "code",
      "execution_count": 8,
      "id": "c3e0682d",
      "metadata": {},
      "outputs": [
        {
          "data": {
            "text/plain": [
              "array([2, 4, 6, 8])"
            ]
          },
          "execution_count": 8,
          "metadata": {},
          "output_type": "execute_result"
        }
      ],
      "source": [
        "#  even an array that contains a range of evenly spaced intervals. To do this, you will specify the first number,\n",
        "# last number, and the step size.\n",
        "np.arange(2,9,2)"
      ]
    },
    {
      "cell_type": "code",
      "execution_count": 9,
      "id": "5eb09d13",
      "metadata": {},
      "outputs": [
        {
          "data": {
            "text/plain": [
              "array([ 0. ,  2.5,  5. ,  7.5, 10. ])"
            ]
          },
          "execution_count": 9,
          "metadata": {},
          "output_type": "execute_result"
        }
      ],
      "source": [
        "# np.linspace() to create an array with values that are spaced linearly in a specified interval\n",
        "np.linspace(0,10,5)"
      ]
    },
    {
      "cell_type": "code",
      "execution_count": 10,
      "id": "97f6553b",
      "metadata": {},
      "outputs": [
        {
          "name": "stdout",
          "output_type": "stream",
          "text": [
            "float64\n",
            "int64\n"
          ]
        }
      ],
      "source": [
        "# While the default data type is floating point (np.float64), you can explicitly specify which data type you want\n",
        "# using the dtype keyword.\n",
        "x = np.ones(2)\n",
        "print(x.dtype)\n",
        "y = np.ones(2, dtype=np.int64)\n",
        "print(y.dtype)"
      ]
    },
    {
      "attachments": {},
      "cell_type": "markdown",
      "id": "e52b235c",
      "metadata": {},
      "source": [
        "<h2>Adding, removing, and sorting elements<h2>"
      ]
    },
    {
      "cell_type": "code",
      "execution_count": 11,
      "id": "2aa02721",
      "metadata": {},
      "outputs": [
        {
          "data": {
            "text/plain": [
              "array([1, 2, 3, 4, 5, 6, 7, 8])"
            ]
          },
          "execution_count": 11,
          "metadata": {},
          "output_type": "execute_result"
        }
      ],
      "source": [
        "arr = np.array([2, 1, 5, 3, 7, 4, 6, 8])\n",
        "arr\n",
        "np.sort(arr)"
      ]
    },
    {
      "attachments": {},
      "cell_type": "markdown",
      "id": "b234df82",
      "metadata": {},
      "source": [
        "<h3>Argsort</h3>\n",
        "<h4> returning the indices that would sort the array in ascending order</h4>"
      ]
    },
    {
      "cell_type": "code",
      "execution_count": 12,
      "id": "a56c2893",
      "metadata": {},
      "outputs": [
        {
          "name": "stdout",
          "output_type": "stream",
          "text": [
            "[1 2 0]\n"
          ]
        }
      ],
      "source": [
        "x = np.array([3, 1, 2])\n",
        "sorted_indices = np.argsort(x)\n",
        "# sorted indices [1, 3, 0, 2] are used to sort the original array [3, 1, 4, 2], resulting in the sorted array [1, 2, 3, 4]\n",
        "print(sorted_indices)"
      ]
    },
    {
      "attachments": {},
      "cell_type": "markdown",
      "id": "66e37ac7",
      "metadata": {},
      "source": [
        "<h3>Lexsort</h3>\n",
        "<h4>In this example, we have three arrays of keys (names, ages, and heights) that we want to sort lexicographically. We pass these arrays as a tuple to lexsort, and it returns an array of indices (idx) that can be used to sort the original arrays. Finally, we use these indices to sort the original arrays and print the sorted results.\n",
        "Lexicographical order is an order in which words or strings are arranged based on the alphabetical order of their component letters.</h4>"
      ]
    },
    {
      "cell_type": "code",
      "execution_count": 13,
      "id": "346df564",
      "metadata": {},
      "outputs": [
        {
          "name": "stdout",
          "output_type": "stream",
          "text": [
            "[0 4 3 1 2]\n",
            "['Alice' 'Alice' 'Bob' 'Bob' 'Charlie']\n",
            "[25 40 20 35 30]\n",
            "[170 185 165 180 175]\n"
          ]
        }
      ],
      "source": [
        "\n",
        "# define the keys to sort\n",
        "names = np.array(['Alice', 'Bob', 'Charlie', 'Bob', 'Alice'])\n",
        "ages = np.array([25, 35, 30, 20, 40])\n",
        "heights = np.array([170, 180, 175, 165, 185])\n",
        "\n",
        "# sort the keys lexicographically\n",
        "idx = np.lexsort((ages, heights, names))\n",
        "print(idx)\n",
        "# use the indices to sort the original arrays\n",
        "sorted_names = names[idx]\n",
        "sorted_ages = ages[idx]\n",
        "sorted_heights = heights[idx]\n",
        "\n",
        "print(sorted_names)     # ['Alice' 'Bob' 'Bob' 'Charlie' 'Alice']\n",
        "print(sorted_ages)      # [25 20 35 30 40]\n",
        "print(sorted_heights)   # [170 165 180 175 185]\n"
      ]
    },
    {
      "attachments": {},
      "cell_type": "markdown",
      "id": "125df769",
      "metadata": {},
      "source": [
        "<h3>Searchsorted</h3>\n",
        "<h4>Returns the indexes where values could be inserted</h4>"
      ]
    },
    {
      "cell_type": "code",
      "execution_count": 14,
      "id": "33bed440",
      "metadata": {},
      "outputs": [
        {
          "name": "stdout",
          "output_type": "stream",
          "text": [
            "[0 2 5]\n"
          ]
        }
      ],
      "source": [
        "# define the sorted input array to search\n",
        "sorted_array = np.array([1, 2, 3, 4, 5])\n",
        "\n",
        "# define the values to search for\n",
        "values = np.array([0, 3, 6])\n",
        "\n",
        "# get the indices where the values would need to be inserted\n",
        "idx = np.searchsorted(sorted_array, values)\n",
        "\n",
        "print(idx)   # [0 2 5]"
      ]
    },
    {
      "attachments": {},
      "cell_type": "markdown",
      "id": "3209ea1c",
      "metadata": {},
      "source": [
        "<h3>Partition</h3>\n",
        "<h4>partition is a function in the NumPy library of Python that performs a partial sort on an input array, dividing it into two parts: the first part contains the k smallest elements (in no particular order), and the second part contains the remaining elements (also in no particular order).</h4>"
      ]
    },
    {
      "cell_type": "code",
      "execution_count": 15,
      "id": "03b22f5b",
      "metadata": {},
      "outputs": [
        {
          "name": "stdout",
          "output_type": "stream",
          "text": [
            "[1 2 3 4 5]\n"
          ]
        }
      ],
      "source": [
        "# define the input array to partition\n",
        "a = np.array([3, 1, 4, 2, 5])\n",
        "\n",
        "# partition the array to get the two smallest elements first\n",
        "partitioned_a = np.partition(a, 2)\n",
        "\n",
        "print(partitioned_a)   # [1 2 3 4 5]"
      ]
    },
    {
      "cell_type": "code",
      "execution_count": 16,
      "id": "b088b25a",
      "metadata": {},
      "outputs": [
        {
          "data": {
            "text/plain": [
              "array([1, 2, 3, 4, 5, 6, 7, 8])"
            ]
          },
          "execution_count": 16,
          "metadata": {},
          "output_type": "execute_result"
        }
      ],
      "source": [
        "#concatenate\n",
        "a = np.array([1, 2, 3, 4])\n",
        "b = np.array([5, 6, 7, 8])\n",
        "np.concatenate((a, b))"
      ]
    },
    {
      "cell_type": "code",
      "execution_count": 17,
      "id": "fd971d4e",
      "metadata": {},
      "outputs": [
        {
          "data": {
            "text/plain": [
              "array([[1, 2],\n",
              "       [3, 4],\n",
              "       [5, 6]])"
            ]
          },
          "execution_count": 17,
          "metadata": {},
          "output_type": "execute_result"
        }
      ],
      "source": [
        "x = np.array([[1, 2], [3, 4]])\n",
        "y = np.array([[5, 6]])\n",
        "np.concatenate((x, y), axis=0)"
      ]
    },
    {
      "attachments": {},
      "cell_type": "markdown",
      "id": "919de239",
      "metadata": {},
      "source": [
        "<h3>How do you know the shape and size of an array?</h3>"
      ]
    },
    {
      "cell_type": "code",
      "execution_count": 18,
      "id": "e09df6eb",
      "metadata": {},
      "outputs": [],
      "source": [
        "array_example = np.array([[[0, 1, 2, 3],\n",
        "                           [4, 5, 6, 7]],\n",
        "\n",
        "                          [[0, 1, 2, 3],\n",
        "                           [4, 5, 6, 7]],\n",
        "\n",
        "                          [[0 ,1 ,2, 3],\n",
        "                           [4, 5, 6, 7]]])"
      ]
    },
    {
      "cell_type": "code",
      "execution_count": 19,
      "id": "cce5f919",
      "metadata": {},
      "outputs": [
        {
          "data": {
            "text/plain": [
              "3"
            ]
          },
          "execution_count": 19,
          "metadata": {},
          "output_type": "execute_result"
        }
      ],
      "source": [
        "# To find the number of dimensions of the array\n",
        "array_example.ndim"
      ]
    },
    {
      "cell_type": "code",
      "execution_count": 20,
      "id": "353a3dbd",
      "metadata": {},
      "outputs": [
        {
          "data": {
            "text/plain": [
              "24"
            ]
          },
          "execution_count": 20,
          "metadata": {},
          "output_type": "execute_result"
        }
      ],
      "source": [
        "# To find the total number of elements in the array\n",
        "array_example.size"
      ]
    },
    {
      "cell_type": "code",
      "execution_count": 21,
      "id": "839147e3",
      "metadata": {},
      "outputs": [
        {
          "data": {
            "text/plain": [
              "(3, 2, 4)"
            ]
          },
          "execution_count": 21,
          "metadata": {},
          "output_type": "execute_result"
        }
      ],
      "source": [
        "# And to find the shape of your array\n",
        "array_example.shape"
      ]
    },
    {
      "attachments": {},
      "cell_type": "markdown",
      "id": "74e206a6",
      "metadata": {},
      "source": [
        "<h3>Can you reshape an array?</h3>"
      ]
    },
    {
      "cell_type": "code",
      "execution_count": 22,
      "id": "69dc8666",
      "metadata": {},
      "outputs": [
        {
          "name": "stdout",
          "output_type": "stream",
          "text": [
            "[0 1 2 3 4 5]\n"
          ]
        }
      ],
      "source": [
        "a = np.arange(6)\n",
        "print(a)"
      ]
    },
    {
      "cell_type": "code",
      "execution_count": 23,
      "id": "579d68b7",
      "metadata": {},
      "outputs": [
        {
          "name": "stdout",
          "output_type": "stream",
          "text": [
            "[[0 1]\n",
            " [2 3]\n",
            " [4 5]]\n"
          ]
        }
      ],
      "source": [
        "# you can reshape this array to an array with three rows and two columns\n",
        "b = a.reshape(3, 2)\n",
        "print(b)"
      ]
    },
    {
      "cell_type": "code",
      "execution_count": 24,
      "id": "128e0164",
      "metadata": {},
      "outputs": [
        {
          "data": {
            "text/plain": [
              "array([[0, 1, 2, 3, 4, 5]])"
            ]
          },
          "execution_count": 24,
          "metadata": {},
          "output_type": "execute_result"
        }
      ],
      "source": [
        "# C, multi-dimensional arrays are stored in row-major order, also known as C order. \n",
        "#This means that the elements in the last dimension of the array are stored together in contiguous memory\n",
        "# Fortran, multi-dimensional arrays are stored in column-major order, also known as Fortran order. \n",
        "#This means that the elements in the first dimension of the array are stored together in contiguous memory\n",
        "np.reshape(a, newshape=(1, 6), order='C')"
      ]
    },
    {
      "attachments": {},
      "cell_type": "markdown",
      "id": "355b4717",
      "metadata": {},
      "source": [
        "<h3>How to convert a 1D array into a 2D array (how to add a new axis to an array)</h3>"
      ]
    },
    {
      "cell_type": "code",
      "execution_count": 25,
      "id": "4e0d0b57",
      "metadata": {},
      "outputs": [
        {
          "data": {
            "text/plain": [
              "(6,)"
            ]
          },
          "execution_count": 25,
          "metadata": {},
          "output_type": "execute_result"
        }
      ],
      "source": [
        "a = np.array([1, 2, 3, 4, 5, 6])\n",
        "a.shape"
      ]
    },
    {
      "cell_type": "code",
      "execution_count": 26,
      "id": "47b3d3fa",
      "metadata": {},
      "outputs": [
        {
          "data": {
            "text/plain": [
              "(1, 6)"
            ]
          },
          "execution_count": 26,
          "metadata": {},
          "output_type": "execute_result"
        }
      ],
      "source": [
        "#use np.newaxis to add a new axis:\n",
        "a2 = a[np.newaxis, :]\n",
        "a2.shape"
      ]
    },
    {
      "cell_type": "code",
      "execution_count": 27,
      "id": "34bd258b",
      "metadata": {},
      "outputs": [
        {
          "data": {
            "text/plain": [
              "(1, 6)"
            ]
          },
          "execution_count": 27,
          "metadata": {},
          "output_type": "execute_result"
        }
      ],
      "source": [
        "# You can explicitly convert a 1D array with either a row vector or a column vector using np.newaxis. \n",
        "# For example, you can convert a 1D array to a row vector by inserting an axis along the first dimension:\n",
        "row_vector = a[np.newaxis, :]\n",
        "row_vector.shape"
      ]
    },
    {
      "cell_type": "code",
      "execution_count": 28,
      "id": "e68bc154",
      "metadata": {},
      "outputs": [
        {
          "data": {
            "text/plain": [
              "(6, 1)"
            ]
          },
          "execution_count": 28,
          "metadata": {},
          "output_type": "execute_result"
        }
      ],
      "source": [
        "# for a column vector, you can insert an axis along the second dimension:\n",
        "col_vector = a[:, np.newaxis]\n",
        "col_vector.shape"
      ]
    },
    {
      "cell_type": "code",
      "execution_count": 29,
      "id": "7acf0411",
      "metadata": {},
      "outputs": [
        {
          "data": {
            "text/plain": [
              "(6, 1)"
            ]
          },
          "execution_count": 29,
          "metadata": {},
          "output_type": "execute_result"
        }
      ],
      "source": [
        "#You can also expand an array by inserting a new axis at a specified position with np.expand_dims.\n",
        "# You can use np.expand_dims to add an axis at index position 1 with:\n",
        "b = np.expand_dims(a, axis=1)\n",
        "b.shape"
      ]
    },
    {
      "cell_type": "code",
      "execution_count": 30,
      "id": "e26bee88",
      "metadata": {},
      "outputs": [
        {
          "data": {
            "text/plain": [
              "(1, 6)"
            ]
          },
          "execution_count": 30,
          "metadata": {},
          "output_type": "execute_result"
        }
      ],
      "source": [
        "#You can add an axis at index position 0 with:\n",
        "c = np.expand_dims(a, axis=0)\n",
        "c.shape"
      ]
    },
    {
      "attachments": {},
      "cell_type": "markdown",
      "id": "3c13659b",
      "metadata": {},
      "source": [
        "<h3>Indexing and slicing</h3>"
      ]
    },
    {
      "cell_type": "code",
      "execution_count": 31,
      "id": "a2c2cc15",
      "metadata": {},
      "outputs": [
        {
          "name": "stdout",
          "output_type": "stream",
          "text": [
            "2\n",
            "[1 2]\n",
            "[2 3]\n",
            "[2 3]\n"
          ]
        }
      ],
      "source": [
        "#You can index and slice NumPy arrays in the same ways you can slice Python lists.\n",
        "\n",
        "data = np.array([1, 2, 3])\n",
        "print(data[1])\n",
        "print(data[0:2])\n",
        "print(data[1:])\n",
        "print(data[-2:])"
      ]
    },
    {
      "cell_type": "code",
      "execution_count": 32,
      "id": "7f9f5616",
      "metadata": {},
      "outputs": [
        {
          "name": "stdout",
          "output_type": "stream",
          "text": [
            "[1 2 3 4]\n",
            "[ 5  6  7  8  9 10 11 12]\n",
            "[ 2  4  6  8 10 12]\n",
            "[ 3  6  9 12]\n",
            "[ 5  6  7  8  9 10]\n"
          ]
        }
      ],
      "source": [
        "a = np.array([[1 , 2, 3, 4], [5, 6, 7, 8], [9, 10, 11, 12]])\n",
        "print(a[a < 5])\n",
        "print(a[a>=5])\n",
        "print(a[a%2==0])\n",
        "print(a[a%3==0])\n",
        "print(a[(a>=5) & (a<=10)])"
      ]
    },
    {
      "cell_type": "code",
      "execution_count": 33,
      "id": "7f825572",
      "metadata": {},
      "outputs": [
        {
          "name": "stdout",
          "output_type": "stream",
          "text": [
            "[[False False False False]\n",
            " [ True  True  True  True]\n",
            " [ True  True  True  True]]\n"
          ]
        }
      ],
      "source": [
        "ab = (a>5) | (a==5)\n",
        "print(ab)"
      ]
    },
    {
      "cell_type": "code",
      "execution_count": 34,
      "id": "1eb8ff91",
      "metadata": {},
      "outputs": [
        {
          "name": "stdout",
          "output_type": "stream",
          "text": [
            "(array([0, 0, 0, 0], dtype=int64), array([0, 1, 2, 3], dtype=int64))\n"
          ]
        }
      ],
      "source": [
        "# You can use np.nonzero() to print the indices of elements that are, for example, less than 5:\n",
        "b = np.nonzero(a < 5)\n",
        "print(b)"
      ]
    },
    {
      "cell_type": "code",
      "execution_count": 35,
      "id": "e42a10f8",
      "metadata": {},
      "outputs": [
        {
          "name": "stdout",
          "output_type": "stream",
          "text": [
            "(0, 0)\n",
            "(0, 1)\n",
            "(0, 2)\n",
            "(0, 3)\n"
          ]
        }
      ],
      "source": [
        "# In above example, a tuple of arrays was returned: one for each dimension. \n",
        "# The first array represents the row indices where these values are found, \n",
        "# and the second array represents the column indices where the values are found.\n",
        "\n",
        "# If you want to generate a list of coordinates where the elements exist, you can zip the arrays, \n",
        "# iterate over the list of coordinates, and print them. For example:\n",
        "\n",
        "list_of_coordinates= list(zip(b[0], b[1]))\n",
        "\n",
        "for coord in list_of_coordinates:\n",
        "    print(coord)"
      ]
    },
    {
      "cell_type": "code",
      "execution_count": 36,
      "id": "2de778de",
      "metadata": {},
      "outputs": [
        {
          "name": "stdout",
          "output_type": "stream",
          "text": [
            "[1 2 3 4]\n"
          ]
        }
      ],
      "source": [
        "# You can also use np.nonzero() to print the elements in an array that are less than 5 with:\n",
        "\n",
        "print(a[b])"
      ]
    },
    {
      "cell_type": "code",
      "execution_count": 37,
      "id": "28086ebe",
      "metadata": {},
      "outputs": [
        {
          "name": "stdout",
          "output_type": "stream",
          "text": [
            "(array([], dtype=int64), array([], dtype=int64))\n"
          ]
        }
      ],
      "source": [
        "# If the element you’re looking for doesn’t exist in the array, then the returned array of indices will be empty. For example:\n",
        "\n",
        "not_there = np.nonzero(a == 42)\n",
        "print(not_there)"
      ]
    },
    {
      "attachments": {},
      "cell_type": "markdown",
      "id": "bec63d12",
      "metadata": {},
      "source": [
        "<h4>How to create an array from existing data</h4>"
      ]
    },
    {
      "cell_type": "code",
      "execution_count": 38,
      "id": "dc57cd07",
      "metadata": {},
      "outputs": [],
      "source": [
        "# You can create a new array from a section of your array any time by specifying where you want to slice your array\n",
        "a = np.array([1,  2,  3,  4,  5,  6,  7,  8,  9, 10])"
      ]
    },
    {
      "cell_type": "code",
      "execution_count": 39,
      "id": "d33d170b",
      "metadata": {},
      "outputs": [
        {
          "data": {
            "text/plain": [
              "array([4, 5, 6, 7, 8])"
            ]
          },
          "execution_count": 39,
          "metadata": {},
          "output_type": "execute_result"
        }
      ],
      "source": [
        "arr1 = a[3:8]\n",
        "arr1"
      ]
    },
    {
      "cell_type": "code",
      "execution_count": 40,
      "id": "c034fd18",
      "metadata": {},
      "outputs": [],
      "source": [
        "a1 = np.array([[1, 1],\n",
        "               [2, 2]])\n",
        "\n",
        "a2 = np.array([[3, 3],\n",
        "               [4, 4]])"
      ]
    },
    {
      "cell_type": "code",
      "execution_count": 41,
      "id": "ce9e90a1",
      "metadata": {},
      "outputs": [
        {
          "data": {
            "text/plain": [
              "array([[1, 1],\n",
              "       [2, 2],\n",
              "       [3, 3],\n",
              "       [4, 4]])"
            ]
          },
          "execution_count": 41,
          "metadata": {},
          "output_type": "execute_result"
        }
      ],
      "source": [
        "np.vstack((a1, a2))"
      ]
    },
    {
      "cell_type": "code",
      "execution_count": 42,
      "id": "f9b35f91",
      "metadata": {},
      "outputs": [
        {
          "data": {
            "text/plain": [
              "array([[1, 1, 3, 3],\n",
              "       [2, 2, 4, 4]])"
            ]
          },
          "execution_count": 42,
          "metadata": {},
          "output_type": "execute_result"
        }
      ],
      "source": [
        "np.hstack((a1, a2))"
      ]
    },
    {
      "cell_type": "code",
      "execution_count": 43,
      "id": "5efc4893",
      "metadata": {},
      "outputs": [
        {
          "data": {
            "text/plain": [
              "array([[ 1,  2,  3,  4,  5,  6,  7,  8,  9, 10, 11, 12],\n",
              "       [13, 14, 15, 16, 17, 18, 19, 20, 21, 22, 23, 24]])"
            ]
          },
          "execution_count": 43,
          "metadata": {},
          "output_type": "execute_result"
        }
      ],
      "source": [
        "# You can split an array into several smaller arrays using hsplit. \n",
        "# You can specify either the number of equally shaped arrays to return or the columns after which the division should occur.\n",
        "\n",
        "x = np.arange(1, 25).reshape(2, 12)\n",
        "x"
      ]
    },
    {
      "cell_type": "code",
      "execution_count": 44,
      "id": "51145f45",
      "metadata": {},
      "outputs": [
        {
          "data": {
            "text/plain": [
              "[array([[ 1,  2,  3,  4],\n",
              "        [13, 14, 15, 16]]),\n",
              " array([[ 5,  6,  7,  8],\n",
              "        [17, 18, 19, 20]]),\n",
              " array([[ 9, 10, 11, 12],\n",
              "        [21, 22, 23, 24]])]"
            ]
          },
          "execution_count": 44,
          "metadata": {},
          "output_type": "execute_result"
        }
      ],
      "source": [
        "# If you wanted to split this array into three equally shaped arrays\n",
        "np.hsplit(x, 3)"
      ]
    },
    {
      "cell_type": "code",
      "execution_count": 45,
      "id": "80210c82",
      "metadata": {},
      "outputs": [
        {
          "data": {
            "text/plain": [
              "[array([[ 1,  2,  3],\n",
              "        [13, 14, 15]]),\n",
              " array([[ 4],\n",
              "        [16]]),\n",
              " array([[ 5,  6,  7,  8,  9, 10, 11, 12],\n",
              "        [17, 18, 19, 20, 21, 22, 23, 24]])]"
            ]
          },
          "execution_count": 45,
          "metadata": {},
          "output_type": "execute_result"
        }
      ],
      "source": [
        "# If you wanted to split your array after the third and fourth column, you’d run:\n",
        "np.hsplit(x, (3, 4))"
      ]
    },
    {
      "attachments": {},
      "cell_type": "markdown",
      "id": "5924cc1c",
      "metadata": {},
      "source": [
        "<h4>Views</h4>"
      ]
    },
    {
      "cell_type": "code",
      "execution_count": 46,
      "id": "f5185dd3",
      "metadata": {},
      "outputs": [],
      "source": [
        "# You can use the view method to create a new array object that looks at the same data as the original array (a shallow copy).\n",
        "# Views are an important NumPy concept! NumPy functions, as well as operations like indexing and slicing, \n",
        "# will return views whenever possible. This saves memory and is faster (no copy of the data has to be made). \n",
        "# However it’s important to be aware of this - modifying data in a view also modifies the original array!\n",
        "\n",
        "a = np.array([[1, 2, 3, 4], [5, 6, 7, 8], [9, 10, 11, 12]])"
      ]
    },
    {
      "cell_type": "code",
      "execution_count": 47,
      "id": "2f5add9e",
      "metadata": {},
      "outputs": [
        {
          "data": {
            "text/plain": [
              "array([1, 2, 3, 4])"
            ]
          },
          "execution_count": 47,
          "metadata": {},
          "output_type": "execute_result"
        }
      ],
      "source": [
        "#Now we create an array b1 by slicing a and modify the first element of b1. This will modify the corresponding element in\n",
        "# a as well!\n",
        "\n",
        "b1 = a[0, :]\n",
        "b1"
      ]
    },
    {
      "cell_type": "code",
      "execution_count": 48,
      "id": "79b87b3c",
      "metadata": {},
      "outputs": [
        {
          "data": {
            "text/plain": [
              "array([99,  2,  3,  4])"
            ]
          },
          "execution_count": 48,
          "metadata": {},
          "output_type": "execute_result"
        }
      ],
      "source": [
        "b1[0] = 99\n",
        "b1"
      ]
    },
    {
      "cell_type": "code",
      "execution_count": 49,
      "id": "5becdd09",
      "metadata": {},
      "outputs": [
        {
          "data": {
            "text/plain": [
              "array([[99,  2,  3,  4],\n",
              "       [ 5,  6,  7,  8],\n",
              "       [ 9, 10, 11, 12]])"
            ]
          },
          "execution_count": 49,
          "metadata": {},
          "output_type": "execute_result"
        }
      ],
      "source": [
        "a"
      ]
    },
    {
      "cell_type": "code",
      "execution_count": 50,
      "id": "e3d4547f",
      "metadata": {},
      "outputs": [
        {
          "data": {
            "text/plain": [
              "array([[99,  2,  3,  4],\n",
              "       [ 5,  6,  7,  8],\n",
              "       [ 9, 10, 11, 12]])"
            ]
          },
          "execution_count": 50,
          "metadata": {},
          "output_type": "execute_result"
        }
      ],
      "source": [
        "# Using the copy method will make a complete copy of the array and its data (a deep copy).\n",
        "b2 = a.copy()\n",
        "b2"
      ]
    },
    {
      "attachments": {},
      "cell_type": "markdown",
      "id": "72d32918",
      "metadata": {},
      "source": [
        "<h4>Basic array operations</h4>"
      ]
    },
    {
      "cell_type": "code",
      "execution_count": 51,
      "id": "746a05f6",
      "metadata": {},
      "outputs": [
        {
          "name": "stdout",
          "output_type": "stream",
          "text": [
            "[2 3]\n",
            "[0 1]\n",
            "[1 2]\n",
            "[1. 2.]\n"
          ]
        }
      ],
      "source": [
        "# You can add the arrays together with the plus sign.\n",
        "data = np.array([1, 2])\n",
        "ones = np.ones(2, dtype=int)\n",
        "print(data + ones)\n",
        "print(data - ones)\n",
        "print(data * ones)\n",
        "print(data / ones)"
      ]
    },
    {
      "cell_type": "code",
      "execution_count": 52,
      "id": "0f422c7f",
      "metadata": {},
      "outputs": [
        {
          "data": {
            "text/plain": [
              "176"
            ]
          },
          "execution_count": 52,
          "metadata": {},
          "output_type": "execute_result"
        }
      ],
      "source": [
        "a.sum()"
      ]
    },
    {
      "cell_type": "code",
      "execution_count": 53,
      "id": "424ad7d0",
      "metadata": {},
      "outputs": [
        {
          "data": {
            "text/plain": [
              "array([3, 3])"
            ]
          },
          "execution_count": 53,
          "metadata": {},
          "output_type": "execute_result"
        }
      ],
      "source": [
        "# To add the rows or the columns in a 2D array\n",
        "b = np.array([[1, 1], [2, 2]])\n",
        "\n",
        "# You can sum over the axis of rows \n",
        "b.sum(axis=0)"
      ]
    },
    {
      "cell_type": "code",
      "execution_count": 54,
      "id": "8a1d95a8",
      "metadata": {},
      "outputs": [
        {
          "data": {
            "text/plain": [
              "array([2, 4])"
            ]
          },
          "execution_count": 54,
          "metadata": {},
          "output_type": "execute_result"
        }
      ],
      "source": [
        "# You can sum over the axis of columns \n",
        "b.sum(axis=1)"
      ]
    },
    {
      "attachments": {},
      "cell_type": "markdown",
      "id": "36cba776",
      "metadata": {},
      "source": [
        "<h3>Broadcasting</h3>\n",
        "<h4>NumPy understands that the multiplication should happen with each cell. That concept is called broadcasting. Broadcasting is a mechanism that allows NumPy to perform operations on arrays of different shapes. The dimensions of your array must be compatible, for example, when the dimensions of both arrays are equal or when one of them is 1. If the dimensions are not compatible, you will get a ValueError.</h4>"
      ]
    },
    {
      "cell_type": "code",
      "execution_count": 55,
      "id": "63fb6cfa",
      "metadata": {},
      "outputs": [
        {
          "data": {
            "text/plain": [
              "array([[5, 6, 7],\n",
              "       [6, 7, 8],\n",
              "       [7, 8, 9]])"
            ]
          },
          "execution_count": 55,
          "metadata": {},
          "output_type": "execute_result"
        }
      ],
      "source": [
        "a = np.array([1, 2, 3])\n",
        "b = np.array([[4], [5], [6]])\n",
        "c = a + b\n",
        "c"
      ]
    },
    {
      "attachments": {},
      "cell_type": "markdown",
      "id": "9674b65d",
      "metadata": {},
      "source": [
        "More useful array operations"
      ]
    },
    {
      "cell_type": "code",
      "execution_count": 56,
      "id": "51403303",
      "metadata": {},
      "outputs": [
        {
          "name": "stdout",
          "output_type": "stream",
          "text": [
            "9\n",
            "5\n",
            "63\n"
          ]
        }
      ],
      "source": [
        "print(c.max())\n",
        "print(c.min())\n",
        "print(c.sum())"
      ]
    },
    {
      "cell_type": "code",
      "execution_count": 57,
      "id": "f3a46e67",
      "metadata": {},
      "outputs": [
        {
          "data": {
            "text/plain": [
              "array([5, 6, 7])"
            ]
          },
          "execution_count": 57,
          "metadata": {},
          "output_type": "execute_result"
        }
      ],
      "source": [
        "# a.min(axis=0) is a NumPy method that returns the minimum value of an array a along its first axis (axis 0). \n",
        "# In other words, it computes the minimum value of each column of the array.\n",
        "c.min(axis=0)"
      ]
    },
    {
      "attachments": {},
      "cell_type": "markdown",
      "id": "278c6471",
      "metadata": {},
      "source": [
        "<h3>Creating matrices</h3>"
      ]
    },
    {
      "cell_type": "code",
      "execution_count": 58,
      "id": "7210dd53",
      "metadata": {},
      "outputs": [
        {
          "data": {
            "text/plain": [
              "array([[1, 2],\n",
              "       [3, 4],\n",
              "       [5, 6]])"
            ]
          },
          "execution_count": 58,
          "metadata": {},
          "output_type": "execute_result"
        }
      ],
      "source": [
        "data = np.array([[1, 2], [3, 4], [5, 6]])\n",
        "data"
      ]
    },
    {
      "cell_type": "code",
      "execution_count": 59,
      "id": "22e1cb5f",
      "metadata": {},
      "outputs": [
        {
          "name": "stdout",
          "output_type": "stream",
          "text": [
            "2\n",
            "[[3 4]\n",
            " [5 6]]\n",
            "[1 3]\n"
          ]
        }
      ],
      "source": [
        "print(data[0, 1])\n",
        "print(data[1:3])\n",
        "print(data[0:2, 0]) # row then column"
      ]
    },
    {
      "cell_type": "code",
      "execution_count": 60,
      "id": "e7ba6be1",
      "metadata": {},
      "outputs": [
        {
          "name": "stdout",
          "output_type": "stream",
          "text": [
            "6\n",
            "1\n",
            "21\n"
          ]
        }
      ],
      "source": [
        "# You can aggregate matrices the same way you aggregated vectors:\n",
        "\n",
        "print(data.max())\n",
        "print(data.min())\n",
        "print(data.sum())"
      ]
    },
    {
      "cell_type": "code",
      "execution_count": 61,
      "id": "f5a38419",
      "metadata": {},
      "outputs": [
        {
          "name": "stdout",
          "output_type": "stream",
          "text": [
            "[5 6]\n",
            "[2 4 6]\n"
          ]
        }
      ],
      "source": [
        "print(data.max(axis=0))\n",
        "print(data.max(axis=1))"
      ]
    },
    {
      "cell_type": "code",
      "execution_count": 62,
      "id": "0146fcea",
      "metadata": {},
      "outputs": [
        {
          "data": {
            "text/plain": [
              "array([[2, 3],\n",
              "       [4, 5]])"
            ]
          },
          "execution_count": 62,
          "metadata": {},
          "output_type": "execute_result"
        }
      ],
      "source": [
        "data = np.array([[1, 2], [3, 4]])\n",
        "ones = np.array([[1, 1], [1, 1]])\n",
        "data + ones"
      ]
    },
    {
      "cell_type": "code",
      "execution_count": 63,
      "metadata": {},
      "outputs": [
        {
          "data": {
            "text/plain": [
              "array([[2, 3],\n",
              "       [4, 5],\n",
              "       [6, 7]])"
            ]
          },
          "execution_count": 63,
          "metadata": {},
          "output_type": "execute_result"
        }
      ],
      "source": [
        "data = np.array([[1, 2], [3, 4], [5, 6]])\n",
        "ones_row = np.array([[1, 1]])\n",
        "data + ones_row"
      ]
    },
    {
      "cell_type": "code",
      "execution_count": 64,
      "id": "9ec6b176",
      "metadata": {},
      "outputs": [
        {
          "data": {
            "text/plain": [
              "array([[[1., 1.],\n",
              "        [1., 1.],\n",
              "        [1., 1.]],\n",
              "\n",
              "       [[1., 1.],\n",
              "        [1., 1.],\n",
              "        [1., 1.]],\n",
              "\n",
              "       [[1., 1.],\n",
              "        [1., 1.],\n",
              "        [1., 1.]],\n",
              "\n",
              "       [[1., 1.],\n",
              "        [1., 1.],\n",
              "        [1., 1.]]])"
            ]
          },
          "execution_count": 64,
          "metadata": {},
          "output_type": "execute_result"
        }
      ],
      "source": [
        "a = np.ones((4, 3, 2))\n",
        "a"
      ]
    },
    {
      "cell_type": "code",
      "execution_count": 65,
      "id": "5ee3bb09",
      "metadata": {},
      "outputs": [
        {
          "data": {
            "text/plain": [
              "array([0.66097857, 0.32467277, 0.33378759])"
            ]
          },
          "execution_count": 65,
          "metadata": {},
          "output_type": "execute_result"
        }
      ],
      "source": [
        "# here are often instances where we want NumPy to initialize the values of an array. \n",
        "# NumPy offers functions like ones() and zeros(), and the random.Generator class for random number generation for that. \n",
        "# All you need to do is pass in the number of elements you want it to generate:\n",
        "rng = np.random.default_rng()  # the simplest way to generate random numbers\n",
        "rng.random(3) "
      ]
    },
    {
      "cell_type": "code",
      "execution_count": 66,
      "id": "3f96f722",
      "metadata": {},
      "outputs": [
        {
          "name": "stdout",
          "output_type": "stream",
          "text": [
            "[[1. 1.]\n",
            " [1. 1.]\n",
            " [1. 1.]]\n",
            "[[0. 0.]\n",
            " [0. 0.]\n",
            " [0. 0.]]\n",
            "[[0.83290347 0.11023244]\n",
            " [0.18139704 0.911226  ]\n",
            " [0.40969434 0.2850167 ]]\n"
          ]
        }
      ],
      "source": [
        "# You can also use ones(), zeros(), and random() to create a 2D array if you give them a tuple describing the dimensions \n",
        "# of the matrix:\n",
        "print(np.ones((3, 2)))\n",
        "print(np.zeros((3, 2)))\n",
        "print(rng.random((3, 2)))"
      ]
    },
    {
      "cell_type": "code",
      "execution_count": 67,
      "id": "bd49ca0e",
      "metadata": {},
      "outputs": [
        {
          "name": "stdout",
          "output_type": "stream",
          "text": [
            "[[2 1 3 1]\n",
            " [4 1 3 0]]\n"
          ]
        }
      ],
      "source": [
        "# Random integres between 0 to 5 of shape (2, 4)\n",
        "print(rng.integers(5, size=(2, 4)) )"
      ]
    },
    {
      "attachments": {},
      "cell_type": "markdown",
      "id": "c3bc9efa",
      "metadata": {},
      "source": [
        "<h3>How to get unique items and counts</h3>"
      ]
    },
    {
      "cell_type": "code",
      "execution_count": 68,
      "id": "d8a2c1d9",
      "metadata": {},
      "outputs": [
        {
          "name": "stdout",
          "output_type": "stream",
          "text": [
            "[11 12 13 14 15 16 17 18 19 20]\n"
          ]
        }
      ],
      "source": [
        "a = np.array([11, 11, 12, 13, 14, 15, 16, 17, 12, 13, 11, 14, 18, 19, 20])\n",
        "unique_values = np.unique(a)\n",
        "print(unique_values)"
      ]
    },
    {
      "cell_type": "code",
      "execution_count": 69,
      "id": "e8ed8b16",
      "metadata": {},
      "outputs": [
        {
          "name": "stdout",
          "output_type": "stream",
          "text": [
            "[ 0  2  3  4  5  6  7 12 13 14]\n"
          ]
        }
      ],
      "source": [
        "# indices\n",
        "unique_values, indices_list = np.unique(a, return_index=True)\n",
        "print(indices_list)"
      ]
    },
    {
      "cell_type": "code",
      "execution_count": 70,
      "id": "1ed2f57e",
      "metadata": {},
      "outputs": [
        {
          "name": "stdout",
          "output_type": "stream",
          "text": [
            "[3 2 2 2 1 1 1 1 1 1]\n"
          ]
        }
      ],
      "source": [
        "# occurance count\n",
        "unique_values, occurrence_count = np.unique(a, return_counts=True)\n",
        "print(occurrence_count)"
      ]
    },
    {
      "cell_type": "code",
      "execution_count": 71,
      "id": "9a61a100",
      "metadata": {},
      "outputs": [
        {
          "name": "stdout",
          "output_type": "stream",
          "text": [
            "[ 1  2  3  4  5  6  7  8  9 10 11 12]\n"
          ]
        }
      ],
      "source": [
        "# This also works with 2D arrays! If you start with this array:\n",
        "a_2d = np.array([[1, 2, 3, 4], [5, 6, 7, 8], [9, 10, 11, 12], [1, 2, 3, 4]])\n",
        "unique_values = np.unique(a_2d)\n",
        "print(unique_values)"
      ]
    },
    {
      "cell_type": "code",
      "execution_count": 72,
      "id": "1dc39442",
      "metadata": {},
      "outputs": [
        {
          "name": "stdout",
          "output_type": "stream",
          "text": [
            "[[ 1  2  3  4]\n",
            " [ 5  6  7  8]\n",
            " [ 9 10 11 12]]\n"
          ]
        }
      ],
      "source": [
        "#Unique rows\n",
        "unique_rows = np.unique(a_2d, axis=0)\n",
        "print(unique_rows)"
      ]
    },
    {
      "cell_type": "code",
      "execution_count": 73,
      "id": "243489c1",
      "metadata": {},
      "outputs": [
        {
          "name": "stdout",
          "output_type": "stream",
          "text": [
            "[[ 1  2  3  4]\n",
            " [ 5  6  7  8]\n",
            " [ 9 10 11 12]]\n",
            "[0 1 2]\n",
            "[2 1 1]\n"
          ]
        }
      ],
      "source": [
        "# Unique rows, indices and occurance count\n",
        "unique_rows, indices, occurrence_count = np.unique(\n",
        "     a_2d, axis=0, return_counts=True, return_index=True)\n",
        "print(unique_rows)\n",
        "print(indices)\n",
        "print(occurrence_count)"
      ]
    },
    {
      "attachments": {},
      "cell_type": "markdown",
      "id": "47fd6110",
      "metadata": {},
      "source": [
        "<h3>Transposing and reshaping a matrix</h3>"
      ]
    },
    {
      "cell_type": "code",
      "execution_count": 74,
      "id": "f2a4d21d",
      "metadata": {},
      "outputs": [
        {
          "data": {
            "text/plain": [
              "array([[11, 11, 12],\n",
              "       [13, 14, 15]])"
            ]
          },
          "execution_count": 74,
          "metadata": {},
          "output_type": "execute_result"
        }
      ],
      "source": [
        "# You may also need to switch the dimensions of a matrix. This can happen when, for example, you have a model that \n",
        "# expects a certain input shape that is different from your dataset. This is where the reshape method can be useful.\n",
        "# You simply need to pass in the new dimensions that you want for the matrix.\n",
        "a = np.array([11, 11, 12, 13, 14, 15])\n",
        "a.reshape(2, 3)"
      ]
    },
    {
      "cell_type": "code",
      "execution_count": 75,
      "id": "335c9c6b",
      "metadata": {},
      "outputs": [
        {
          "data": {
            "text/plain": [
              "array([[11, 11],\n",
              "       [12, 13],\n",
              "       [14, 15]])"
            ]
          },
          "execution_count": 75,
          "metadata": {},
          "output_type": "execute_result"
        }
      ],
      "source": [
        "a.reshape(3, 2)"
      ]
    },
    {
      "cell_type": "code",
      "execution_count": 76,
      "id": "aac4da08",
      "metadata": {},
      "outputs": [
        {
          "name": "stdout",
          "output_type": "stream",
          "text": [
            "[[0 1 2]\n",
            " [3 4 5]]\n",
            "(2, 3)\n"
          ]
        }
      ],
      "source": [
        "arr = np.arange(6).reshape((2, 3))\n",
        "print(arr)\n",
        "print(arr.shape)"
      ]
    },
    {
      "cell_type": "code",
      "execution_count": 77,
      "id": "9df1fcd0",
      "metadata": {},
      "outputs": [
        {
          "name": "stdout",
          "output_type": "stream",
          "text": [
            "[[0 3]\n",
            " [1 4]\n",
            " [2 5]]\n",
            "(3, 2)\n"
          ]
        }
      ],
      "source": [
        "arr1 = arr.transpose()\n",
        "print(arr1)\n",
        "print(arr1.shape)"
      ]
    },
    {
      "cell_type": "code",
      "execution_count": 78,
      "id": "53517fca",
      "metadata": {},
      "outputs": [
        {
          "data": {
            "text/plain": [
              "array([[0, 3],\n",
              "       [1, 4],\n",
              "       [2, 5]])"
            ]
          },
          "execution_count": 78,
          "metadata": {},
          "output_type": "execute_result"
        }
      ],
      "source": [
        "# You can also use arr.T:\n",
        "arr.T"
      ]
    },
    {
      "attachments": {},
      "cell_type": "markdown",
      "id": "57ff7bdb",
      "metadata": {},
      "source": [
        "<h3>How to reverse an array</h3>"
      ]
    },
    {
      "cell_type": "code",
      "execution_count": null,
      "id": "c75db1c6",
      "metadata": {},
      "outputs": [],
      "source": []
    }
  ],
  "metadata": {
    "kernelspec": {
      "display_name": "Python 3",
      "language": "python",
      "name": "python3"
    },
    "language_info": {
      "codemirror_mode": {
        "name": "ipython",
        "version": 3
      },
      "file_extension": ".py",
      "mimetype": "text/x-python",
      "name": "python",
      "nbconvert_exporter": "python",
      "pygments_lexer": "ipython3",
      "version": "3.11.2"
    }
  },
  "nbformat": 4,
  "nbformat_minor": 5
}
